{
  "nbformat": 4,
  "nbformat_minor": 0,
  "metadata": {
    "colab": {
      "provenance": [],
      "authorship_tag": "ABX9TyN8H3yNZX5yMNzymPOfSasG",
      "include_colab_link": true
    },
    "kernelspec": {
      "name": "python3",
      "display_name": "Python 3"
    },
    "language_info": {
      "name": "python"
    }
  },
  "cells": [
    {
      "cell_type": "markdown",
      "metadata": {
        "id": "view-in-github",
        "colab_type": "text"
      },
      "source": [
        "<a href=\"https://colab.research.google.com/github/akhilkumarb/FML/blob/main/Tokentization.ipynb\" target=\"_parent\"><img src=\"https://colab.research.google.com/assets/colab-badge.svg\" alt=\"Open In Colab\"/></a>"
      ]
    },
    {
      "cell_type": "code",
      "execution_count": 6,
      "metadata": {
        "colab": {
          "base_uri": "https://localhost:8080/"
        },
        "id": "c2VCh0yMRtgH",
        "outputId": "a8bfe835-2ebf-4ee6-e0cd-2cafa481835c"
      },
      "outputs": [
        {
          "output_type": "stream",
          "name": "stdout",
          "text": [
            "tokens: ['Adipurush', '(transl.', 'First', 'man[a])', 'is', 'an', 'upcoming', 'Indian', 'mythological', 'film', 'based', 'on', 'the', 'Hindu', 'epic', 'Ramayana.[4]', 'The', 'film', 'is', 'written', 'and', 'directed', 'by', 'Om', 'Raut', 'and', 'produced', 'by', 'T-Series', 'and', 'Retrophiles.', 'Shot', 'simultaneously', 'in', 'Hindi', 'and', 'Telugu', 'languages,', 'the', 'film', 'stars', 'Prabhas,', 'Kriti', 'Sanon,', 'and', 'Saif', 'Ali', 'Khan', 'along', 'with', 'Sunny', 'Singh', 'and', 'Devdatta', 'Nage', 'in', 'supporting', 'roles.']\n",
            "no of tokens: 58\n",
            "types: {'directed', 'written', 'Telugu', 'languages,', 'mythological', 'T-Series', 'Shot', 'The', 'produced', 'Nage', 'Adipurush', 'an', 'Sanon,', 'supporting', 'based', 'Devdatta', 'Prabhas,', 'simultaneously', 'the', 'with', 'Ali', 'Indian', 'in', 'First', 'Khan', 'Sunny', 'film', 'upcoming', 'Saif', 'Om', '(transl.', 'Singh', 'man[a])', 'is', 'by', 'Retrophiles.', 'Ramayana.[4]', 'stars', 'Kriti', 'along', 'and', 'Hindu', 'roles.', 'epic', 'Hindi', 'on', 'Raut'}\n",
            "no of types: 47\n"
          ]
        }
      ],
      "source": [
        "text =\"Adipurush (transl. First man[a]) is an upcoming Indian mythological film based on the Hindu epic Ramayana.[4] The film is written and directed by Om Raut and produced by T-Series and Retrophiles. Shot simultaneously in Hindi and Telugu languages, the film stars Prabhas, Kriti Sanon, and Saif Ali Khan along with Sunny Singh and Devdatta Nage in supporting roles.\"\n",
        "tokens=text.split()\n",
        "print(\"tokens:\",tokens)\n",
        "print(\"no of tokens:\" , len(tokens))\n",
        "types = set(tokens)\n",
        "print(\"types:\",types)\n",
        "print(\"no of types:\" , len(types))"
      ]
    },
    {
      "cell_type": "code",
      "source": [
        "text =\"Adipurush (transl. First man[a]) is an upcoming Indian mythological film based on the Hindu epic Ramayana.[4] The film is written and directed by Om Raut and produced by T-Series and Retrophiles. Shot simultaneously in Hindi and Telugu languages, the film stars Prabhas, Kriti Sanon, and Saif Ali Khan along with Sunny Singh and Devdatta Nage in supporting roles.\"\n",
        "sentence = text.split('.')\n",
        "print(\"sentences: \",sentence)"
      ],
      "metadata": {
        "colab": {
          "base_uri": "https://localhost:8080/"
        },
        "id": "wtjzL2PlWu89",
        "outputId": "a16a19fa-9215-41a6-e5a2-d60f3ed01e84"
      },
      "execution_count": 7,
      "outputs": [
        {
          "output_type": "stream",
          "name": "stdout",
          "text": [
            "sentences:  ['Adipurush (transl', '\\u2009First man[a]) is an upcoming Indian mythological film based on the Hindu epic Ramayana', '[4] The film is written and directed by Om Raut and produced by T-Series and Retrophiles', ' Shot simultaneously in Hindi and Telugu languages, the film stars Prabhas, Kriti Sanon, and Saif Ali Khan along with Sunny Singh and Devdatta Nage in supporting roles', '']\n"
          ]
        }
      ]
    },
    {
      "cell_type": "code",
      "source": [
        "import re\n",
        "tokens = re.findall(\"[\\w']+\", text)  \n",
        "print(tokens)\n",
        "print(\"No.of tokens : \", len(tokens))"
      ],
      "metadata": {
        "colab": {
          "base_uri": "https://localhost:8080/"
        },
        "id": "IjRIHpi8dFkW",
        "outputId": "b8c55064-ec64-4c8b-da09-c4901d231206"
      },
      "execution_count": 9,
      "outputs": [
        {
          "output_type": "stream",
          "name": "stdout",
          "text": [
            "['Adipurush', 'transl', 'First', 'man', 'a', 'is', 'an', 'upcoming', 'Indian', 'mythological', 'film', 'based', 'on', 'the', 'Hindu', 'epic', 'Ramayana', '4', 'The', 'film', 'is', 'written', 'and', 'directed', 'by', 'Om', 'Raut', 'and', 'produced', 'by', 'T', 'Series', 'and', 'Retrophiles', 'Shot', 'simultaneously', 'in', 'Hindi', 'and', 'Telugu', 'languages', 'the', 'film', 'stars', 'Prabhas', 'Kriti', 'Sanon', 'and', 'Saif', 'Ali', 'Khan', 'along', 'with', 'Sunny', 'Singh', 'and', 'Devdatta', 'Nage', 'in', 'supporting', 'roles']\n",
            "No.of tokens :  61\n"
          ]
        }
      ]
    },
    {
      "cell_type": "code",
      "source": [
        "sentences = re.compile('[.?!] ').split(text)\n",
        "print(sentences)\n",
        "print(\"No.of sentences : \", len(sentences))"
      ],
      "metadata": {
        "colab": {
          "base_uri": "https://localhost:8080/"
        },
        "id": "8ikd5t33d3Cu",
        "outputId": "d38876ee-a59a-4991-e8c7-7c9a2fcdeba6"
      },
      "execution_count": 10,
      "outputs": [
        {
          "output_type": "stream",
          "name": "stdout",
          "text": [
            "['Adipurush (transl.\\u2009First man[a]) is an upcoming Indian mythological film based on the Hindu epic Ramayana.[4] The film is written and directed by Om Raut and produced by T-Series and Retrophiles', 'Shot simultaneously in Hindi and Telugu languages, the film stars Prabhas, Kriti Sanon, and Saif Ali Khan along with Sunny Singh and Devdatta Nage in supporting roles.']\n",
            "No.of sentences :  2\n"
          ]
        }
      ]
    },
    {
      "cell_type": "code",
      "source": [
        "  #tokenization using NLtk\n",
        "\n",
        "!pip install --user -U nltk"
      ],
      "metadata": {
        "colab": {
          "base_uri": "https://localhost:8080/"
        },
        "id": "unUum7ITd8_Y",
        "outputId": "ca1a04c7-206f-4984-9678-c7753fd10f7c"
      },
      "execution_count": 11,
      "outputs": [
        {
          "output_type": "stream",
          "name": "stdout",
          "text": [
            "Looking in indexes: https://pypi.org/simple, https://us-python.pkg.dev/colab-wheels/public/simple/\n",
            "Requirement already satisfied: nltk in /usr/local/lib/python3.10/dist-packages (3.8.1)\n",
            "Requirement already satisfied: click in /usr/local/lib/python3.10/dist-packages (from nltk) (8.1.3)\n",
            "Requirement already satisfied: joblib in /usr/local/lib/python3.10/dist-packages (from nltk) (1.2.0)\n",
            "Requirement already satisfied: regex>=2021.8.3 in /usr/local/lib/python3.10/dist-packages (from nltk) (2022.10.31)\n",
            "Requirement already satisfied: tqdm in /usr/local/lib/python3.10/dist-packages (from nltk) (4.65.0)\n"
          ]
        }
      ]
    },
    {
      "cell_type": "code",
      "source": [
        "import nltk\n",
        "nltk.download('punkt')"
      ],
      "metadata": {
        "colab": {
          "base_uri": "https://localhost:8080/"
        },
        "id": "UibykbS9eLYq",
        "outputId": "820ffba2-aa2c-4ef4-976c-e21258936eb7"
      },
      "execution_count": 12,
      "outputs": [
        {
          "output_type": "stream",
          "name": "stderr",
          "text": [
            "[nltk_data] Downloading package punkt to /root/nltk_data...\n",
            "[nltk_data]   Unzipping tokenizers/punkt.zip.\n"
          ]
        },
        {
          "output_type": "execute_result",
          "data": {
            "text/plain": [
              "True"
            ]
          },
          "metadata": {},
          "execution_count": 12
        }
      ]
    },
    {
      "cell_type": "code",
      "source": [
        "# word.\n",
        "from nltk.tokenize import word_tokenize \n",
        "tokens1 = word_tokenize(text)\n",
        "print(tokens1)\n",
        "#Sentence.\n",
        "from nltk.tokenize import sent_tokenize\n",
        "sentences1 = sent_tokenize(text)\n",
        "print(sentences1)"
      ],
      "metadata": {
        "colab": {
          "base_uri": "https://localhost:8080/"
        },
        "id": "sJ1NCzW4e7Hz",
        "outputId": "3838920b-5fcf-46c6-fcdb-91a9db290c43"
      },
      "execution_count": 18,
      "outputs": [
        {
          "output_type": "stream",
          "name": "stdout",
          "text": [
            "['Adipurush', '(', 'transl', '.', 'First', 'man', '[', 'a', ']', ')', 'is', 'an', 'upcoming', 'Indian', 'mythological', 'film', 'based', 'on', 'the', 'Hindu', 'epic', 'Ramayana', '.', '[', '4', ']', 'The', 'film', 'is', 'written', 'and', 'directed', 'by', 'Om', 'Raut', 'and', 'produced', 'by', 'T-Series', 'and', 'Retrophiles', '.', 'Shot', 'simultaneously', 'in', 'Hindi', 'and', 'Telugu', 'languages', ',', 'the', 'film', 'stars', 'Prabhas', ',', 'Kriti', 'Sanon', ',', 'and', 'Saif', 'Ali', 'Khan', 'along', 'with', 'Sunny', 'Singh', 'and', 'Devdatta', 'Nage', 'in', 'supporting', 'roles', '.']\n",
            "['Adipurush (transl.', 'First man[a]) is an upcoming Indian mythological film based on the Hindu epic Ramayana.', '[4] The film is written and directed by Om Raut and produced by T-Series and Retrophiles.', 'Shot simultaneously in Hindi and Telugu languages, the film stars Prabhas, Kriti Sanon, and Saif Ali Khan along with Sunny Singh and Devdatta Nage in supporting roles.']\n"
          ]
        }
      ]
    },
    {
      "cell_type": "code",
      "source": [
        "from nltk.stem import PorterStemmer\n",
        "porter=PorterStemmer()\n",
        "print(porter.stem(\"played\"))"
      ],
      "metadata": {
        "colab": {
          "base_uri": "https://localhost:8080/"
        },
        "id": "DbvQ_FGkfIle",
        "outputId": "c48b1135-6123-4aef-d4b2-8a87ec744a7c"
      },
      "execution_count": 16,
      "outputs": [
        {
          "output_type": "stream",
          "name": "stdout",
          "text": [
            "play\n"
          ]
        }
      ]
    },
    {
      "cell_type": "code",
      "source": [],
      "metadata": {
        "id": "n9-UNs0ShtVr"
      },
      "execution_count": null,
      "outputs": []
    }
  ]
}