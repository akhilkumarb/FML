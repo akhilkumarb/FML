{
  "nbformat": 4,
  "nbformat_minor": 0,
  "metadata": {
    "colab": {
      "provenance": [],
      "authorship_tag": "ABX9TyPmRgCCMngLUzWROxj40AOn",
      "include_colab_link": true
    },
    "kernelspec": {
      "name": "python3",
      "display_name": "Python 3"
    },
    "language_info": {
      "name": "python"
    }
  },
  "cells": [
    {
      "cell_type": "markdown",
      "metadata": {
        "id": "view-in-github",
        "colab_type": "text"
      },
      "source": [
        "<a href=\"https://colab.research.google.com/github/akhilkumarb/FML/blob/main/stopwords.ipynb\" target=\"_parent\"><img src=\"https://colab.research.google.com/assets/colab-badge.svg\" alt=\"Open In Colab\"/></a>"
      ]
    },
    {
      "cell_type": "code",
      "source": [
        "import nltk\n",
        "from nltk.corpus import stopwords\n",
        "nltk.download(\"stopwords\")"
      ],
      "metadata": {
        "colab": {
          "base_uri": "https://localhost:8080/"
        },
        "id": "Dee8QdRWk-ds",
        "outputId": "e15910a9-c035-46f3-e9de-aeee570cb958"
      },
      "execution_count": 12,
      "outputs": [
        {
          "output_type": "stream",
          "name": "stderr",
          "text": [
            "[nltk_data] Downloading package stopwords to /root/nltk_data...\n",
            "[nltk_data]   Unzipping corpora/stopwords.zip.\n"
          ]
        },
        {
          "output_type": "execute_result",
          "data": {
            "text/plain": [
              "True"
            ]
          },
          "metadata": {},
          "execution_count": 12
        }
      ]
    },
    {
      "cell_type": "code",
      "source": [
        "print(stopwords.words('english'))"
      ],
      "metadata": {
        "colab": {
          "base_uri": "https://localhost:8080/"
        },
        "id": "3XkR72V0liVI",
        "outputId": "827ea7bd-fdab-4b5e-db9d-3aea78c9fa00"
      },
      "execution_count": 13,
      "outputs": [
        {
          "output_type": "stream",
          "name": "stdout",
          "text": [
            "['i', 'me', 'my', 'myself', 'we', 'our', 'ours', 'ourselves', 'you', \"you're\", \"you've\", \"you'll\", \"you'd\", 'your', 'yours', 'yourself', 'yourselves', 'he', 'him', 'his', 'himself', 'she', \"she's\", 'her', 'hers', 'herself', 'it', \"it's\", 'its', 'itself', 'they', 'them', 'their', 'theirs', 'themselves', 'what', 'which', 'who', 'whom', 'this', 'that', \"that'll\", 'these', 'those', 'am', 'is', 'are', 'was', 'were', 'be', 'been', 'being', 'have', 'has', 'had', 'having', 'do', 'does', 'did', 'doing', 'a', 'an', 'the', 'and', 'but', 'if', 'or', 'because', 'as', 'until', 'while', 'of', 'at', 'by', 'for', 'with', 'about', 'against', 'between', 'into', 'through', 'during', 'before', 'after', 'above', 'below', 'to', 'from', 'up', 'down', 'in', 'out', 'on', 'off', 'over', 'under', 'again', 'further', 'then', 'once', 'here', 'there', 'when', 'where', 'why', 'how', 'all', 'any', 'both', 'each', 'few', 'more', 'most', 'other', 'some', 'such', 'no', 'nor', 'not', 'only', 'own', 'same', 'so', 'than', 'too', 'very', 's', 't', 'can', 'will', 'just', 'don', \"don't\", 'should', \"should've\", 'now', 'd', 'll', 'm', 'o', 're', 've', 'y', 'ain', 'aren', \"aren't\", 'couldn', \"couldn't\", 'didn', \"didn't\", 'doesn', \"doesn't\", 'hadn', \"hadn't\", 'hasn', \"hasn't\", 'haven', \"haven't\", 'isn', \"isn't\", 'ma', 'mightn', \"mightn't\", 'mustn', \"mustn't\", 'needn', \"needn't\", 'shan', \"shan't\", 'shouldn', \"shouldn't\", 'wasn', \"wasn't\", 'weren', \"weren't\", 'won', \"won't\", 'wouldn', \"wouldn't\"]\n"
          ]
        }
      ]
    },
    {
      "cell_type": "code",
      "source": [
        "from nltk.corpus import stopwords\n",
        "from nltk.tokenize import word_tokenize\n",
        "text =\"\"\"\n",
        "A rhyme is a repetition of similar sounds (usually, the exact same phonemes) in the final stressed syllables and any following syllables of two or more words. Most often, this kind of perfect rhyming is consciously used for a musical or aesthetic effect in the final position of lines within poems or songs.\"\"\"\n",
        "word_tokens = word_tokenize(text)\n",
        "print(word_tokens)\n"
      ],
      "metadata": {
        "colab": {
          "base_uri": "https://localhost:8080/"
        },
        "id": "CMsEmw2Elm6B",
        "outputId": "9b9ecb1d-d0b2-41a1-eccc-dad0e621225a"
      },
      "execution_count": 16,
      "outputs": [
        {
          "output_type": "stream",
          "name": "stdout",
          "text": [
            "['A', 'rhyme', 'is', 'a', 'repetition', 'of', 'similar', 'sounds', '(', 'usually', ',', 'the', 'exact', 'same', 'phonemes', ')', 'in', 'the', 'final', 'stressed', 'syllables', 'and', 'any', 'following', 'syllables', 'of', 'two', 'or', 'more', 'words', '.', 'Most', 'often', ',', 'this', 'kind', 'of', 'perfect', 'rhyming', 'is', 'consciously', 'used', 'for', 'a', 'musical', 'or', 'aesthetic', 'effect', 'in', 'the', 'final', 'position', 'of', 'lines', 'within', 'poems', 'or', 'songs', '.']\n"
          ]
        }
      ]
    },
    {
      "cell_type": "code",
      "source": [
        "stop_words = set(stopwords.words('english'))\n",
        "filtered_sentence = [w for w in word_tokens if not w.lower() in stop_words]\n",
        "print(filtered_sentence)"
      ],
      "metadata": {
        "colab": {
          "base_uri": "https://localhost:8080/"
        },
        "id": "HQwwhPgDmLCZ",
        "outputId": "ecf3f671-a49c-4dfb-9f49-b1b9f1e05b68"
      },
      "execution_count": 19,
      "outputs": [
        {
          "output_type": "stream",
          "name": "stdout",
          "text": [
            "['rhyme', 'repetition', 'similar', 'sounds', '(', 'usually', ',', 'exact', 'phonemes', ')', 'final', 'stressed', 'syllables', 'following', 'syllables', 'two', 'words', '.', 'often', ',', 'kind', 'perfect', 'rhyming', 'consciously', 'used', 'musical', 'aesthetic', 'effect', 'final', 'position', 'lines', 'within', 'poems', 'songs', '.']\n"
          ]
        }
      ]
    },
    {
      "cell_type": "code",
      "source": [
        "filtered_sentence1 = []\n",
        "unwanted = ['(',')','.',',']\n",
        "for w in word_tokens:\n",
        "    if w not in stop_words:\n",
        "       if w not in unwanted:\n",
        "        filtered_sentence1.append(w)\n",
        "  \n",
        "print(word_tokens)\n",
        "print(filtered_sentence1)"
      ],
      "metadata": {
        "colab": {
          "base_uri": "https://localhost:8080/"
        },
        "id": "i4NdL0_coUaO",
        "outputId": "d4326233-9017-4e76-86a9-972d02569b67"
      },
      "execution_count": 23,
      "outputs": [
        {
          "output_type": "stream",
          "name": "stdout",
          "text": [
            "['A', 'rhyme', 'is', 'a', 'repetition', 'of', 'similar', 'sounds', '(', 'usually', ',', 'the', 'exact', 'same', 'phonemes', ')', 'in', 'the', 'final', 'stressed', 'syllables', 'and', 'any', 'following', 'syllables', 'of', 'two', 'or', 'more', 'words', '.', 'Most', 'often', ',', 'this', 'kind', 'of', 'perfect', 'rhyming', 'is', 'consciously', 'used', 'for', 'a', 'musical', 'or', 'aesthetic', 'effect', 'in', 'the', 'final', 'position', 'of', 'lines', 'within', 'poems', 'or', 'songs', '.']\n",
            "['A', 'rhyme', 'repetition', 'similar', 'sounds', 'usually', 'exact', 'phonemes', 'final', 'stressed', 'syllables', 'following', 'syllables', 'two', 'words', 'Most', 'often', 'kind', 'perfect', 'rhyming', 'consciously', 'used', 'musical', 'aesthetic', 'effect', 'final', 'position', 'lines', 'within', 'poems', 'songs']\n"
          ]
        }
      ]
    }
  ]
}