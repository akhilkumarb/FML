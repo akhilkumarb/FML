{
  "nbformat": 4,
  "nbformat_minor": 0,
  "metadata": {
    "colab": {
      "provenance": [],
      "authorship_tag": "ABX9TyPzD2ByUQBKIqXxShj21ADO",
      "include_colab_link": true
    },
    "kernelspec": {
      "name": "python3",
      "display_name": "Python 3"
    },
    "language_info": {
      "name": "python"
    }
  },
  "cells": [
    {
      "cell_type": "markdown",
      "metadata": {
        "id": "view-in-github",
        "colab_type": "text"
      },
      "source": [
        "<a href=\"https://colab.research.google.com/github/akhilkumarb/FML/blob/main/Navie_Baes.ipynb\" target=\"_parent\"><img src=\"https://colab.research.google.com/assets/colab-badge.svg\" alt=\"Open In Colab\"/></a>"
      ]
    },
    {
      "cell_type": "code",
      "execution_count": 1,
      "metadata": {
        "id": "kzwUgAtPcjEY"
      },
      "outputs": [],
      "source": [
        "# defining dataset\n",
        "weather=['Sunny','Sunny','Overcast','Rainy','Rainy','Rainy','Overcast','Sunny','Sunny',\n",
        "'Rainy','Sunny','Overcast','Overcast','Rainy']\n",
        "temp=['Hot','Hot','Hot','Mild','Cool','Cool','Cool','Mild','Cool','Mild','Mild','Mild','Hot','Mild']\n",
        "\n",
        "play=['No','No','Yes','Yes','Yes','No','Yes','No','Yes','Yes','Yes','Yes','Yes','No']"
      ]
    },
    {
      "cell_type": "code",
      "source": [
        "from sklearn import preprocessing\n",
        "from sklearn.model_selection import train_test_split\n",
        "import numpy as np\n",
        "labelE = preprocessing.LabelEncoder()\n",
        "weather_encoded=labelE.fit_transform(weather)\n",
        "print(weather_encoded)"
      ],
      "metadata": {
        "colab": {
          "base_uri": "https://localhost:8080/"
        },
        "id": "8jt8skMBd6Q2",
        "outputId": "5679d905-7dd0-45e2-c3b3-9316f6f4fc2b"
      },
      "execution_count": 16,
      "outputs": [
        {
          "output_type": "stream",
          "name": "stdout",
          "text": [
            "[2 2 0 1 1 1 0 2 2 1 2 0 0 1]\n"
          ]
        }
      ]
    },
    {
      "cell_type": "code",
      "source": [
        "temp_encoded=labelE.fit_transform(temp)\n",
        "label=labelE.fit_transform(play)\n",
        "print(\"Temp:\",temp_encoded)\n",
        "print(\"Play:\",label)\n",
        "     "
      ],
      "metadata": {
        "colab": {
          "base_uri": "https://localhost:8080/"
        },
        "id": "Jyc6IPKJeObi",
        "outputId": "fec72e2e-3a9a-4f4b-8e46-41a04d712995"
      },
      "execution_count": 3,
      "outputs": [
        {
          "output_type": "stream",
          "name": "stdout",
          "text": [
            "Temp: [1 1 1 2 0 0 0 2 0 2 2 2 1 2]\n",
            "Play: [0 0 1 1 1 0 1 0 1 1 1 1 1 0]\n"
          ]
        }
      ]
    },
    {
      "cell_type": "code",
      "source": [
        "features = np.vstack((weather_encoded, temp_encoded)).T\n",
        "features.shape, features[0]"
      ],
      "metadata": {
        "colab": {
          "base_uri": "https://localhost:8080/"
        },
        "id": "pkPyhRfwewn5",
        "outputId": "567c82c7-398b-4df2-e9ad-45c33c399060"
      },
      "execution_count": 8,
      "outputs": [
        {
          "output_type": "execute_result",
          "data": {
            "text/plain": [
              "((14, 2), array([2, 1]))"
            ]
          },
          "metadata": {},
          "execution_count": 8
        }
      ]
    },
    {
      "cell_type": "code",
      "source": [
        "from sklearn.naive_bayes import GaussianNB\n",
        "model = GaussianNB()\n",
        "model.fit(features,label)\n",
        "predicted= model.predict([[0,2]])\n",
        "print(\"Predicted Value:\", predicted)\n"
      ],
      "metadata": {
        "colab": {
          "base_uri": "https://localhost:8080/"
        },
        "id": "OFdGdN6EfL7Z",
        "outputId": "2d851c06-8ff1-41d4-c181-37db16ab0ab8"
      },
      "execution_count": 9,
      "outputs": [
        {
          "output_type": "stream",
          "name": "stdout",
          "text": [
            "Predicted Value: [1]\n"
          ]
        }
      ]
    },
    {
      "cell_type": "code",
      "source": [
        "from sklearn import datasets\n",
        "wine = datasets.load_wine()\n",
        "print(\"Features: \", wine.feature_names)\n",
        "print(\"Labels: \", wine.target_names)"
      ],
      "metadata": {
        "colab": {
          "base_uri": "https://localhost:8080/"
        },
        "id": "Lrj4c-nvfY6h",
        "outputId": "9596b8b2-39cf-40b0-9a27-514a9594e9e3"
      },
      "execution_count": 11,
      "outputs": [
        {
          "output_type": "stream",
          "name": "stdout",
          "text": [
            "Features:  ['alcohol', 'malic_acid', 'ash', 'alcalinity_of_ash', 'magnesium', 'total_phenols', 'flavanoids', 'nonflavanoid_phenols', 'proanthocyanins', 'color_intensity', 'hue', 'od280/od315_of_diluted_wines', 'proline']\n",
            "Labels:  ['class_0' 'class_1' 'class_2']\n"
          ]
        }
      ]
    },
    {
      "cell_type": "code",
      "source": [
        "wine.data.shape"
      ],
      "metadata": {
        "colab": {
          "base_uri": "https://localhost:8080/"
        },
        "id": "buC1ikFkfehB",
        "outputId": "3a2edbac-01e1-4cae-83eb-c9429069ae5a"
      },
      "execution_count": 12,
      "outputs": [
        {
          "output_type": "execute_result",
          "data": {
            "text/plain": [
              "(178, 13)"
            ]
          },
          "metadata": {},
          "execution_count": 12
        }
      ]
    },
    {
      "cell_type": "code",
      "source": [
        "print(wine.data[0])\n",
        "wine.target"
      ],
      "metadata": {
        "colab": {
          "base_uri": "https://localhost:8080/"
        },
        "id": "0h7fXI1rfnzq",
        "outputId": "2a93e42e-9cb7-437d-96aa-027918339f16"
      },
      "execution_count": 15,
      "outputs": [
        {
          "output_type": "stream",
          "name": "stdout",
          "text": [
            "[1.423e+01 1.710e+00 2.430e+00 1.560e+01 1.270e+02 2.800e+00 3.060e+00\n",
            " 2.800e-01 2.290e+00 5.640e+00 1.040e+00 3.920e+00 1.065e+03]\n"
          ]
        },
        {
          "output_type": "execute_result",
          "data": {
            "text/plain": [
              "array([0, 0, 0, 0, 0, 0, 0, 0, 0, 0, 0, 0, 0, 0, 0, 0, 0, 0, 0, 0, 0, 0,\n",
              "       0, 0, 0, 0, 0, 0, 0, 0, 0, 0, 0, 0, 0, 0, 0, 0, 0, 0, 0, 0, 0, 0,\n",
              "       0, 0, 0, 0, 0, 0, 0, 0, 0, 0, 0, 0, 0, 0, 0, 1, 1, 1, 1, 1, 1, 1,\n",
              "       1, 1, 1, 1, 1, 1, 1, 1, 1, 1, 1, 1, 1, 1, 1, 1, 1, 1, 1, 1, 1, 1,\n",
              "       1, 1, 1, 1, 1, 1, 1, 1, 1, 1, 1, 1, 1, 1, 1, 1, 1, 1, 1, 1, 1, 1,\n",
              "       1, 1, 1, 1, 1, 1, 1, 1, 1, 1, 1, 1, 1, 1, 1, 1, 1, 1, 1, 1, 2, 2,\n",
              "       2, 2, 2, 2, 2, 2, 2, 2, 2, 2, 2, 2, 2, 2, 2, 2, 2, 2, 2, 2, 2, 2,\n",
              "       2, 2, 2, 2, 2, 2, 2, 2, 2, 2, 2, 2, 2, 2, 2, 2, 2, 2, 2, 2, 2, 2,\n",
              "       2, 2])"
            ]
          },
          "metadata": {},
          "execution_count": 15
        }
      ]
    },
    {
      "cell_type": "code",
      "source": [
        "X_train, X_test, y_train, y_test = train_test_split(wine.data, wine.target, test_size=0.3,random_state=42)"
      ],
      "metadata": {
        "id": "_4_umoKOf1P6"
      },
      "execution_count": 17,
      "outputs": []
    },
    {
      "cell_type": "code",
      "source": [
        "print(X_train,X_test,y_train,y_test)"
      ],
      "metadata": {
        "colab": {
          "base_uri": "https://localhost:8080/"
        },
        "id": "YqNnCwzvf_CI",
        "outputId": "31cbd3be-78a0-4344-ba4c-c6f2a2ffd37d"
      },
      "execution_count": 18,
      "outputs": [
        {
          "output_type": "stream",
          "name": "stdout",
          "text": [
            "[[1.349e+01 3.590e+00 2.190e+00 ... 8.100e-01 1.820e+00 5.800e+02]\n",
            " [1.251e+01 1.730e+00 1.980e+00 ... 1.040e+00 3.570e+00 6.720e+02]\n",
            " [1.233e+01 9.900e-01 1.950e+00 ... 1.060e+00 2.310e+00 7.500e+02]\n",
            " ...\n",
            " [1.438e+01 1.870e+00 2.380e+00 ... 1.200e+00 3.000e+00 1.547e+03]\n",
            " [1.269e+01 1.530e+00 2.260e+00 ... 9.600e-01 2.060e+00 4.950e+02]\n",
            " [1.234e+01 2.450e+00 2.460e+00 ... 8.000e-01 3.380e+00 4.380e+02]] [[1.364000e+01 3.100000e+00 2.560000e+00 1.520000e+01 1.160000e+02\n",
            "  2.700000e+00 3.030000e+00 1.700000e-01 1.660000e+00 5.100000e+00\n",
            "  9.600000e-01 3.360000e+00 8.450000e+02]\n",
            " [1.421000e+01 4.040000e+00 2.440000e+00 1.890000e+01 1.110000e+02\n",
            "  2.850000e+00 2.650000e+00 3.000000e-01 1.250000e+00 5.240000e+00\n",
            "  8.700000e-01 3.330000e+00 1.080000e+03]\n",
            " [1.293000e+01 2.810000e+00 2.700000e+00 2.100000e+01 9.600000e+01\n",
            "  1.540000e+00 5.000000e-01 5.300000e-01 7.500000e-01 4.600000e+00\n",
            "  7.700000e-01 2.310000e+00 6.000000e+02]\n",
            " [1.373000e+01 1.500000e+00 2.700000e+00 2.250000e+01 1.010000e+02\n",
            "  3.000000e+00 3.250000e+00 2.900000e-01 2.380000e+00 5.700000e+00\n",
            "  1.190000e+00 2.710000e+00 1.285000e+03]\n",
            " [1.237000e+01 1.170000e+00 1.920000e+00 1.960000e+01 7.800000e+01\n",
            "  2.110000e+00 2.000000e+00 2.700000e-01 1.040000e+00 4.680000e+00\n",
            "  1.120000e+00 3.480000e+00 5.100000e+02]\n",
            " [1.430000e+01 1.920000e+00 2.720000e+00 2.000000e+01 1.200000e+02\n",
            "  2.800000e+00 3.140000e+00 3.300000e-01 1.970000e+00 6.200000e+00\n",
            "  1.070000e+00 2.650000e+00 1.280000e+03]\n",
            " [1.200000e+01 3.430000e+00 2.000000e+00 1.900000e+01 8.700000e+01\n",
            "  2.000000e+00 1.640000e+00 3.700000e-01 1.870000e+00 1.280000e+00\n",
            "  9.300000e-01 3.050000e+00 5.640000e+02]\n",
            " [1.340000e+01 3.910000e+00 2.480000e+00 2.300000e+01 1.020000e+02\n",
            "  1.800000e+00 7.500000e-01 4.300000e-01 1.410000e+00 7.300000e+00\n",
            "  7.000000e-01 1.560000e+00 7.500000e+02]\n",
            " [1.161000e+01 1.350000e+00 2.700000e+00 2.000000e+01 9.400000e+01\n",
            "  2.740000e+00 2.920000e+00 2.900000e-01 2.490000e+00 2.650000e+00\n",
            "  9.600000e-01 3.260000e+00 6.800000e+02]\n",
            " [1.336000e+01 2.560000e+00 2.350000e+00 2.000000e+01 8.900000e+01\n",
            "  1.400000e+00 5.000000e-01 3.700000e-01 6.400000e-01 5.600000e+00\n",
            "  7.000000e-01 2.470000e+00 7.800000e+02]\n",
            " [1.350000e+01 1.810000e+00 2.610000e+00 2.000000e+01 9.600000e+01\n",
            "  2.530000e+00 2.610000e+00 2.800000e-01 1.660000e+00 3.520000e+00\n",
            "  1.120000e+00 3.820000e+00 8.450000e+02]\n",
            " [1.350000e+01 3.120000e+00 2.620000e+00 2.400000e+01 1.230000e+02\n",
            "  1.400000e+00 1.570000e+00 2.200000e-01 1.250000e+00 8.600000e+00\n",
            "  5.900000e-01 1.300000e+00 5.000000e+02]\n",
            " [1.341000e+01 3.840000e+00 2.120000e+00 1.880000e+01 9.000000e+01\n",
            "  2.450000e+00 2.680000e+00 2.700000e-01 1.480000e+00 4.280000e+00\n",
            "  9.100000e-01 3.000000e+00 1.035000e+03]\n",
            " [1.277000e+01 3.430000e+00 1.980000e+00 1.600000e+01 8.000000e+01\n",
            "  1.630000e+00 1.250000e+00 4.300000e-01 8.300000e-01 3.400000e+00\n",
            "  7.000000e-01 2.120000e+00 3.720000e+02]\n",
            " [1.363000e+01 1.810000e+00 2.700000e+00 1.720000e+01 1.120000e+02\n",
            "  2.850000e+00 2.910000e+00 3.000000e-01 1.460000e+00 7.300000e+00\n",
            "  1.280000e+00 2.880000e+00 1.310000e+03]\n",
            " [1.252000e+01 2.430000e+00 2.170000e+00 2.100000e+01 8.800000e+01\n",
            "  2.550000e+00 2.270000e+00 2.600000e-01 1.220000e+00 2.000000e+00\n",
            "  9.000000e-01 2.780000e+00 3.250000e+02]\n",
            " [1.141000e+01 7.400000e-01 2.500000e+00 2.100000e+01 8.800000e+01\n",
            "  2.480000e+00 2.010000e+00 4.200000e-01 1.440000e+00 3.080000e+00\n",
            "  1.100000e+00 2.310000e+00 4.340000e+02]\n",
            " [1.208000e+01 1.130000e+00 2.510000e+00 2.400000e+01 7.800000e+01\n",
            "  2.000000e+00 1.580000e+00 4.000000e-01 1.400000e+00 2.200000e+00\n",
            "  1.310000e+00 2.720000e+00 6.300000e+02]\n",
            " [1.386000e+01 1.350000e+00 2.270000e+00 1.600000e+01 9.800000e+01\n",
            "  2.980000e+00 3.150000e+00 2.200000e-01 1.850000e+00 7.220000e+00\n",
            "  1.010000e+00 3.550000e+00 1.045000e+03]\n",
            " [1.208000e+01 1.390000e+00 2.500000e+00 2.250000e+01 8.400000e+01\n",
            "  2.560000e+00 2.290000e+00 4.300000e-01 1.040000e+00 2.900000e+00\n",
            "  9.300000e-01 3.190000e+00 3.850000e+02]\n",
            " [1.419000e+01 1.590000e+00 2.480000e+00 1.650000e+01 1.080000e+02\n",
            "  3.300000e+00 3.930000e+00 3.200000e-01 1.860000e+00 8.700000e+00\n",
            "  1.230000e+00 2.820000e+00 1.680000e+03]\n",
            " [1.311000e+01 1.010000e+00 1.700000e+00 1.500000e+01 7.800000e+01\n",
            "  2.980000e+00 3.180000e+00 2.600000e-01 2.280000e+00 5.300000e+00\n",
            "  1.120000e+00 3.180000e+00 5.020000e+02]\n",
            " [1.233000e+01 1.100000e+00 2.280000e+00 1.600000e+01 1.010000e+02\n",
            "  2.050000e+00 1.090000e+00 6.300000e-01 4.100000e-01 3.270000e+00\n",
            "  1.250000e+00 1.670000e+00 6.800000e+02]\n",
            " [1.340000e+01 4.600000e+00 2.860000e+00 2.500000e+01 1.120000e+02\n",
            "  1.980000e+00 9.600000e-01 2.700000e-01 1.110000e+00 8.500000e+00\n",
            "  6.700000e-01 1.920000e+00 6.300000e+02]\n",
            " [1.277000e+01 2.390000e+00 2.280000e+00 1.950000e+01 8.600000e+01\n",
            "  1.390000e+00 5.100000e-01 4.800000e-01 6.400000e-01 9.899999e+00\n",
            "  5.700000e-01 1.630000e+00 4.700000e+02]\n",
            " [1.378000e+01 2.760000e+00 2.300000e+00 2.200000e+01 9.000000e+01\n",
            "  1.350000e+00 6.800000e-01 4.100000e-01 1.030000e+00 9.580000e+00\n",
            "  7.000000e-01 1.680000e+00 6.150000e+02]\n",
            " [1.242000e+01 1.610000e+00 2.190000e+00 2.250000e+01 1.080000e+02\n",
            "  2.000000e+00 2.090000e+00 3.400000e-01 1.610000e+00 2.060000e+00\n",
            "  1.060000e+00 2.960000e+00 3.450000e+02]\n",
            " [1.237000e+01 1.210000e+00 2.560000e+00 1.810000e+01 9.800000e+01\n",
            "  2.420000e+00 2.650000e+00 3.700000e-01 2.080000e+00 4.600000e+00\n",
            "  1.190000e+00 2.300000e+00 6.780000e+02]\n",
            " [1.208000e+01 1.830000e+00 2.320000e+00 1.850000e+01 8.100000e+01\n",
            "  1.600000e+00 1.500000e+00 5.200000e-01 1.640000e+00 2.400000e+00\n",
            "  1.080000e+00 2.270000e+00 4.800000e+02]\n",
            " [1.356000e+01 1.730000e+00 2.460000e+00 2.050000e+01 1.160000e+02\n",
            "  2.960000e+00 2.780000e+00 2.000000e-01 2.450000e+00 6.250000e+00\n",
            "  9.800000e-01 3.030000e+00 1.120000e+03]\n",
            " [1.402000e+01 1.680000e+00 2.210000e+00 1.600000e+01 9.600000e+01\n",
            "  2.650000e+00 2.330000e+00 2.600000e-01 1.980000e+00 4.700000e+00\n",
            "  1.040000e+00 3.590000e+00 1.035000e+03]\n",
            " [1.237000e+01 1.630000e+00 2.300000e+00 2.450000e+01 8.800000e+01\n",
            "  2.220000e+00 2.450000e+00 4.000000e-01 1.900000e+00 2.120000e+00\n",
            "  8.900000e-01 2.780000e+00 3.420000e+02]\n",
            " [1.316000e+01 3.570000e+00 2.150000e+00 2.100000e+01 1.020000e+02\n",
            "  1.500000e+00 5.500000e-01 4.300000e-01 1.300000e+00 4.000000e+00\n",
            "  6.000000e-01 1.680000e+00 8.300000e+02]\n",
            " [1.358000e+01 1.660000e+00 2.360000e+00 1.910000e+01 1.060000e+02\n",
            "  2.860000e+00 3.190000e+00 2.200000e-01 1.950000e+00 6.900000e+00\n",
            "  1.090000e+00 2.880000e+00 1.515000e+03]\n",
            " [1.375000e+01 1.730000e+00 2.410000e+00 1.600000e+01 8.900000e+01\n",
            "  2.600000e+00 2.760000e+00 2.900000e-01 1.810000e+00 5.600000e+00\n",
            "  1.150000e+00 2.900000e+00 1.320000e+03]\n",
            " [1.388000e+01 1.890000e+00 2.590000e+00 1.500000e+01 1.010000e+02\n",
            "  3.250000e+00 3.560000e+00 1.700000e-01 1.700000e+00 5.430000e+00\n",
            "  8.800000e-01 3.560000e+00 1.095000e+03]\n",
            " [1.434000e+01 1.680000e+00 2.700000e+00 2.500000e+01 9.800000e+01\n",
            "  2.800000e+00 1.310000e+00 5.300000e-01 2.700000e+00 1.300000e+01\n",
            "  5.700000e-01 1.960000e+00 6.600000e+02]\n",
            " [1.253000e+01 5.510000e+00 2.640000e+00 2.500000e+01 9.600000e+01\n",
            "  1.790000e+00 6.000000e-01 6.300000e-01 1.100000e+00 5.000000e+00\n",
            "  8.200000e-01 1.690000e+00 5.150000e+02]\n",
            " [1.237000e+01 1.070000e+00 2.100000e+00 1.850000e+01 8.800000e+01\n",
            "  3.520000e+00 3.750000e+00 2.400000e-01 1.950000e+00 4.500000e+00\n",
            "  1.040000e+00 2.770000e+00 6.600000e+02]\n",
            " [1.348000e+01 1.670000e+00 2.640000e+00 2.250000e+01 8.900000e+01\n",
            "  2.600000e+00 1.100000e+00 5.200000e-01 2.290000e+00 1.175000e+01\n",
            "  5.700000e-01 1.780000e+00 6.200000e+02]\n",
            " [1.307000e+01 1.500000e+00 2.100000e+00 1.550000e+01 9.800000e+01\n",
            "  2.400000e+00 2.640000e+00 2.800000e-01 1.370000e+00 3.700000e+00\n",
            "  1.180000e+00 2.690000e+00 1.020000e+03]\n",
            " [1.222000e+01 1.290000e+00 1.940000e+00 1.900000e+01 9.200000e+01\n",
            "  2.360000e+00 2.040000e+00 3.900000e-01 2.080000e+00 2.700000e+00\n",
            "  8.600000e-01 3.020000e+00 3.120000e+02]\n",
            " [1.267000e+01 9.800000e-01 2.240000e+00 1.800000e+01 9.900000e+01\n",
            "  2.200000e+00 1.940000e+00 3.000000e-01 1.460000e+00 2.620000e+00\n",
            "  1.230000e+00 3.160000e+00 4.500000e+02]\n",
            " [1.334000e+01 9.400000e-01 2.360000e+00 1.700000e+01 1.100000e+02\n",
            "  2.530000e+00 1.300000e+00 5.500000e-01 4.200000e-01 3.170000e+00\n",
            "  1.020000e+00 1.930000e+00 7.500000e+02]\n",
            " [1.362000e+01 4.950000e+00 2.350000e+00 2.000000e+01 9.200000e+01\n",
            "  2.000000e+00 8.000000e-01 4.700000e-01 1.020000e+00 4.400000e+00\n",
            "  9.100000e-01 2.050000e+00 5.500000e+02]\n",
            " [1.316000e+01 2.360000e+00 2.670000e+00 1.860000e+01 1.010000e+02\n",
            "  2.800000e+00 3.240000e+00 3.000000e-01 2.810000e+00 5.680000e+00\n",
            "  1.030000e+00 3.170000e+00 1.185000e+03]\n",
            " [1.208000e+01 2.080000e+00 1.700000e+00 1.750000e+01 9.700000e+01\n",
            "  2.230000e+00 2.170000e+00 2.600000e-01 1.400000e+00 3.300000e+00\n",
            "  1.270000e+00 2.960000e+00 7.100000e+02]\n",
            " [1.242000e+01 4.430000e+00 2.730000e+00 2.650000e+01 1.020000e+02\n",
            "  2.200000e+00 2.130000e+00 4.300000e-01 1.710000e+00 2.080000e+00\n",
            "  9.200000e-01 3.120000e+00 3.650000e+02]\n",
            " [1.258000e+01 1.290000e+00 2.100000e+00 2.000000e+01 1.030000e+02\n",
            "  1.480000e+00 5.800000e-01 5.300000e-01 1.400000e+00 7.600000e+00\n",
            "  5.800000e-01 1.550000e+00 6.400000e+02]\n",
            " [1.383000e+01 1.650000e+00 2.600000e+00 1.720000e+01 9.400000e+01\n",
            "  2.450000e+00 2.990000e+00 2.200000e-01 2.290000e+00 5.600000e+00\n",
            "  1.240000e+00 3.370000e+00 1.265000e+03]\n",
            " [1.303000e+01 9.000000e-01 1.710000e+00 1.600000e+01 8.600000e+01\n",
            "  1.950000e+00 2.030000e+00 2.400000e-01 1.460000e+00 4.600000e+00\n",
            "  1.190000e+00 2.480000e+00 3.920000e+02]\n",
            " [1.422000e+01 1.700000e+00 2.300000e+00 1.630000e+01 1.180000e+02\n",
            "  3.200000e+00 3.000000e+00 2.600000e-01 2.030000e+00 6.380000e+00\n",
            "  9.400000e-01 3.310000e+00 9.700000e+02]\n",
            " [1.339000e+01 1.770000e+00 2.620000e+00 1.610000e+01 9.300000e+01\n",
            "  2.850000e+00 2.940000e+00 3.400000e-01 1.450000e+00 4.800000e+00\n",
            "  9.200000e-01 3.220000e+00 1.195000e+03]\n",
            " [1.323000e+01 3.300000e+00 2.280000e+00 1.850000e+01 9.800000e+01\n",
            "  1.800000e+00 8.300000e-01 6.100000e-01 1.870000e+00 1.052000e+01\n",
            "  5.600000e-01 1.510000e+00 6.750000e+02]] [2 1 1 0 1 0 2 1 1 2 0 0 0 2 0 0 1 2 1 0 2 1 0 2 1 1 0 1 0 0 1 0 0 2 1 1 1\n",
            " 0 1 1 1 2 2 0 1 2 2 1 1 0 1 2 2 1 2 1 1 1 0 0 2 0 2 0 0 1 1 0 0 0 1 0 1 2\n",
            " 1 1 1 2 2 1 0 0 1 2 2 0 1 2 2 2 2 1 0 1 0 2 0 0 1 0 0 2 1 0 2 2 0 0 2 2 2\n",
            " 1 1 1 1 1 1 2 0 1 1 0 1 1] [0 0 2 0 1 0 1 2 1 2 0 2 0 1 0 1 1 1 0 1 0 1 1 2 2 2 1 1 1 0 0 1 2 0 0 0 2\n",
            " 2 1 2 0 1 1 1 2 0 1 1 2 0 1 0 0 2]\n"
          ]
        }
      ]
    },
    {
      "cell_type": "code",
      "source": [
        "gass = GaussianNB()\n",
        "gass.fit(X_train, y_train)\n"
      ],
      "metadata": {
        "colab": {
          "base_uri": "https://localhost:8080/",
          "height": 74
        },
        "id": "0H7-UnKPgLnp",
        "outputId": "bbef13dd-1682-4d77-867b-bfcb9e75f655"
      },
      "execution_count": 22,
      "outputs": [
        {
          "output_type": "execute_result",
          "data": {
            "text/plain": [
              "GaussianNB()"
            ],
            "text/html": [
              "<style>#sk-container-id-2 {color: black;background-color: white;}#sk-container-id-2 pre{padding: 0;}#sk-container-id-2 div.sk-toggleable {background-color: white;}#sk-container-id-2 label.sk-toggleable__label {cursor: pointer;display: block;width: 100%;margin-bottom: 0;padding: 0.3em;box-sizing: border-box;text-align: center;}#sk-container-id-2 label.sk-toggleable__label-arrow:before {content: \"▸\";float: left;margin-right: 0.25em;color: #696969;}#sk-container-id-2 label.sk-toggleable__label-arrow:hover:before {color: black;}#sk-container-id-2 div.sk-estimator:hover label.sk-toggleable__label-arrow:before {color: black;}#sk-container-id-2 div.sk-toggleable__content {max-height: 0;max-width: 0;overflow: hidden;text-align: left;background-color: #f0f8ff;}#sk-container-id-2 div.sk-toggleable__content pre {margin: 0.2em;color: black;border-radius: 0.25em;background-color: #f0f8ff;}#sk-container-id-2 input.sk-toggleable__control:checked~div.sk-toggleable__content {max-height: 200px;max-width: 100%;overflow: auto;}#sk-container-id-2 input.sk-toggleable__control:checked~label.sk-toggleable__label-arrow:before {content: \"▾\";}#sk-container-id-2 div.sk-estimator input.sk-toggleable__control:checked~label.sk-toggleable__label {background-color: #d4ebff;}#sk-container-id-2 div.sk-label input.sk-toggleable__control:checked~label.sk-toggleable__label {background-color: #d4ebff;}#sk-container-id-2 input.sk-hidden--visually {border: 0;clip: rect(1px 1px 1px 1px);clip: rect(1px, 1px, 1px, 1px);height: 1px;margin: -1px;overflow: hidden;padding: 0;position: absolute;width: 1px;}#sk-container-id-2 div.sk-estimator {font-family: monospace;background-color: #f0f8ff;border: 1px dotted black;border-radius: 0.25em;box-sizing: border-box;margin-bottom: 0.5em;}#sk-container-id-2 div.sk-estimator:hover {background-color: #d4ebff;}#sk-container-id-2 div.sk-parallel-item::after {content: \"\";width: 100%;border-bottom: 1px solid gray;flex-grow: 1;}#sk-container-id-2 div.sk-label:hover label.sk-toggleable__label {background-color: #d4ebff;}#sk-container-id-2 div.sk-serial::before {content: \"\";position: absolute;border-left: 1px solid gray;box-sizing: border-box;top: 0;bottom: 0;left: 50%;z-index: 0;}#sk-container-id-2 div.sk-serial {display: flex;flex-direction: column;align-items: center;background-color: white;padding-right: 0.2em;padding-left: 0.2em;position: relative;}#sk-container-id-2 div.sk-item {position: relative;z-index: 1;}#sk-container-id-2 div.sk-parallel {display: flex;align-items: stretch;justify-content: center;background-color: white;position: relative;}#sk-container-id-2 div.sk-item::before, #sk-container-id-2 div.sk-parallel-item::before {content: \"\";position: absolute;border-left: 1px solid gray;box-sizing: border-box;top: 0;bottom: 0;left: 50%;z-index: -1;}#sk-container-id-2 div.sk-parallel-item {display: flex;flex-direction: column;z-index: 1;position: relative;background-color: white;}#sk-container-id-2 div.sk-parallel-item:first-child::after {align-self: flex-end;width: 50%;}#sk-container-id-2 div.sk-parallel-item:last-child::after {align-self: flex-start;width: 50%;}#sk-container-id-2 div.sk-parallel-item:only-child::after {width: 0;}#sk-container-id-2 div.sk-dashed-wrapped {border: 1px dashed gray;margin: 0 0.4em 0.5em 0.4em;box-sizing: border-box;padding-bottom: 0.4em;background-color: white;}#sk-container-id-2 div.sk-label label {font-family: monospace;font-weight: bold;display: inline-block;line-height: 1.2em;}#sk-container-id-2 div.sk-label-container {text-align: center;}#sk-container-id-2 div.sk-container {/* jupyter's `normalize.less` sets `[hidden] { display: none; }` but bootstrap.min.css set `[hidden] { display: none !important; }` so we also need the `!important` here to be able to override the default hidden behavior on the sphinx rendered scikit-learn.org. See: https://github.com/scikit-learn/scikit-learn/issues/21755 */display: inline-block !important;position: relative;}#sk-container-id-2 div.sk-text-repr-fallback {display: none;}</style><div id=\"sk-container-id-2\" class=\"sk-top-container\"><div class=\"sk-text-repr-fallback\"><pre>GaussianNB()</pre><b>In a Jupyter environment, please rerun this cell to show the HTML representation or trust the notebook. <br />On GitHub, the HTML representation is unable to render, please try loading this page with nbviewer.org.</b></div><div class=\"sk-container\" hidden><div class=\"sk-item\"><div class=\"sk-estimator sk-toggleable\"><input class=\"sk-toggleable__control sk-hidden--visually\" id=\"sk-estimator-id-2\" type=\"checkbox\" checked><label for=\"sk-estimator-id-2\" class=\"sk-toggleable__label sk-toggleable__label-arrow\">GaussianNB</label><div class=\"sk-toggleable__content\"><pre>GaussianNB()</pre></div></div></div></div></div>"
            ]
          },
          "metadata": {},
          "execution_count": 22
        }
      ]
    },
    {
      "cell_type": "code",
      "source": [
        "y_pred = gass.predict(X_test)"
      ],
      "metadata": {
        "id": "hGrKAmzrgkPp"
      },
      "execution_count": 23,
      "outputs": []
    },
    {
      "cell_type": "code",
      "source": [
        "from sklearn import metrics\n",
        "print(\"Accuracy:\",metrics.accuracy_score(y_test, y_pred))"
      ],
      "metadata": {
        "colab": {
          "base_uri": "https://localhost:8080/"
        },
        "id": "1sPWtS26gmBS",
        "outputId": "7a552701-a1c5-4660-ac9d-1ba004edf3f1"
      },
      "execution_count": 24,
      "outputs": [
        {
          "output_type": "stream",
          "name": "stdout",
          "text": [
            "Accuracy: 1.0\n"
          ]
        }
      ]
    }
  ]
}